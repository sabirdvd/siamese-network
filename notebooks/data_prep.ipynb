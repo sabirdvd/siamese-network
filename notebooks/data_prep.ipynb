{
 "cells": [
  {
   "cell_type": "markdown",
   "metadata": {},
   "source": [
    "Import required libraries, define file paths"
   ]
  },
  {
   "cell_type": "code",
   "execution_count": 1,
   "metadata": {},
   "outputs": [],
   "source": [
    "import os, csv"
   ]
  },
  {
   "cell_type": "code",
   "execution_count": 6,
   "metadata": {},
   "outputs": [],
   "source": [
    "SRC_DATA_PATH = '/Users/vineet/repos/github/ubuntu-ranking-dataset-creator/src'\n",
    "train_file = os.path.join(SRC_DATA_PATH, 'train.csv')\n",
    "\n",
    "OUT_DATA_PATH = '../data'\n",
    "train_ctx = os.path.join(OUT_DATA_PATH, 'train.ctx')\n",
    "train_utterance = os.path.join(OUT_DATA_PATH, 'train.utterance')\n",
    "train_label = os.path.join(OUT_DATA_PATH, 'train.label')"
   ]
  },
  {
   "cell_type": "code",
   "execution_count": 7,
   "metadata": {},
   "outputs": [],
   "source": [
    "fw_train_ctx = open(train_ctx, 'w')\n",
    "fw_train_utterance = open(train_utterance, 'w')\n",
    "fw_train_label = open(train_label, 'w')\n",
    "\n",
    "with open(train_file) as fr:\n",
    "    reader = csv.reader(fr)\n",
    "    \n",
    "    #Ignore header\n",
    "    next(reader)\n",
    "    \n",
    "    for row in reader:\n",
    "        assert (len(row) ==3)\n",
    "        context = row[0]\n",
    "        utterance = row[1]\n",
    "        label = row[2]\n",
    "        fw_train_ctx.write('%s\\n'%(' '.join(context.split(','))))\n",
    "        fw_train_utterance.write('%s\\n'%utterance)\n",
    "        fw_train_label.write('%s\\n'%label)\n",
    "        \n",
    "fw_train_ctx.close()\n",
    "fw_train_utterance.close()\n",
    "fw_train_label.close()"
   ]
  },
  {
   "cell_type": "markdown",
   "metadata": {},
   "source": [
    "Create vocab `vocab.txt` file using `train.ctx` and `train.utterance`"
   ]
  },
  {
   "cell_type": "code",
   "execution_count": 11,
   "metadata": {},
   "outputs": [
    {
     "name": "stdout",
     "output_type": "stream",
     "text": [
      "9843829\n",
      "19836507\n",
      "30045700\n",
      "40232359\n",
      "50344911\n",
      "60584950\n",
      "70854045\n",
      "81280310\n",
      "91571783\n",
      "101415823\n"
     ]
    }
   ],
   "source": [
    "from collections import Counter\n",
    "vocab_file = os.path.join(OUT_DATA_PATH, 'vocab.txt')\n",
    "UNK = 'UNK'\n",
    "\n",
    "# Python3 has a built in generator zip\n",
    "#from itertools import izip\n",
    "\n",
    "fr_ctx = open(train_ctx)\n",
    "fr_utterance = open(train_utternance)\n",
    "\n",
    "\n",
    "line = 0\n",
    "words = []\n",
    "for ctx, utterance in zip(fr_ctx, fr_utterance):\n",
    "    words.extend(ctx.split())\n",
    "    words.extend(utterance.split())\n",
    "    \n",
    "    line += 1\n",
    "    if line %100000 == 0:\n",
    "        print (len(words))\n",
    "\n",
    "counter = Counter(words)\n",
    "fw_vocab = open(vocab_file, 'w')\n",
    "\n",
    "#Write UNK to the beginning\n",
    "fw_vocab.write('%s\\n'%UNK)\n",
    "for w, _ in counter.most_common():\n",
    "    fw_vocab.write('%s\\n'%w)\n",
    "fw_vocab.close()\n",
    "\n",
    "fr_ctx.close()\n",
    "fr_utterance.close()"
   ]
  },
  {
   "cell_type": "code",
   "execution_count": null,
   "metadata": {},
   "outputs": [],
   "source": []
  }
 ],
 "metadata": {
  "kernelspec": {
   "display_name": "Python 3",
   "language": "python",
   "name": "python3"
  },
  "language_info": {
   "codemirror_mode": {
    "name": "ipython",
    "version": 3
   },
   "file_extension": ".py",
   "mimetype": "text/x-python",
   "name": "python",
   "nbconvert_exporter": "python",
   "pygments_lexer": "ipython3",
   "version": "3.6.2"
  }
 },
 "nbformat": 4,
 "nbformat_minor": 2
}
