{
 "cells": [
  {
   "cell_type": "code",
   "execution_count": 1,
   "metadata": {},
   "outputs": [],
   "source": [
    "import tensorflow as tf\n",
    "from tensorflow.python.ops import lookup_ops\n",
    "from tensorflow.contrib import data\n",
    "import os"
   ]
  },
  {
   "cell_type": "code",
   "execution_count": 2,
   "metadata": {},
   "outputs": [],
   "source": [
    "OUT_DATA_PATH = '../data'\n",
    "vocab_file = os.path.join(OUT_DATA_PATH, 'vocab100k.txt')"
   ]
  },
  {
   "cell_type": "code",
   "execution_count": 3,
   "metadata": {},
   "outputs": [],
   "source": [
    "train_ctx = os.path.join(OUT_DATA_PATH, 'train.ctx')\n",
    "train_utterance = os.path.join(OUT_DATA_PATH, 'train.utterance')\n",
    "train_label = os.path.join(OUT_DATA_PATH, 'train.label')"
   ]
  },
  {
   "cell_type": "code",
   "execution_count": 4,
   "metadata": {},
   "outputs": [],
   "source": [
    "vocab_table = lookup_ops.index_table_from_file(vocab_file, default_value=0)\n",
    "def create_train_dataset_iterator(train_ctx, train_utterance, train_label, vocab_table):\n",
    "    ctx_dataset = data.TextLineDataset(train_ctx)\n",
    "    utterance_dataset = data.TextLineDataset(train_utterance)\n",
    "    label_dataset = data.TextLineDataset(train_label)\n",
    "    joint_dataset = data.Dataset.zip((ctx_dataset, utterance_dataset, label_dataset))\n",
    "\n",
    "    joint_dataset = joint_dataset.map(lambda ctx, utterance, label: (tf.string_split([ctx]).values, tf.string_split([utterance]).values, tf.string_to_number(label)))\n",
    "    \n",
    "    joint_dataset = joint_dataset.map(lambda ctx, utterance, label: (vocab_table.lookup(ctx), vocab_table.lookup(utterance), label))\n",
    "    joint_dataset = joint_dataset.map(lambda ctx, utterance, label: ctx, tf.size(ctx),)\n",
    "    \n",
    "    joint_dataset = joint_dataset.padded_batch(32, padded_shapes=(tf.TensorShape([None]), \n",
    "                                                          tf.TensorShape([None]), tf.TensorShape([])))\n",
    "    iterator = joint_dataset.make_initializable_iterator()\n",
    "    return iterator"
   ]
  },
  {
   "cell_type": "code",
   "execution_count": 5,
   "metadata": {},
   "outputs": [],
   "source": [
    "V = 100000\n",
    "d = 300\n",
    "W = tf.get_variable('embedding', shape=[V, d])"
   ]
  },
  {
   "cell_type": "code",
   "execution_count": 6,
   "metadata": {},
   "outputs": [],
   "source": [
    "#Define placeholders for input\n",
    "context = tf.placeholder(tf.int64, shape=[32, 20])\n",
    "utterance = tf.placeholder(tf.int64, shape=[32, 20])\n",
    "label = tf.placeholder(tf.float32)"
   ]
  },
  {
   "cell_type": "code",
   "execution_count": 7,
   "metadata": {},
   "outputs": [],
   "source": [
    "iterator = create_train_dataset_iterator(train_ctx, train_utterance, train_label, vocab_table)\n",
    "context_vector = tf.nn.embedding_lookup(W, context)"
   ]
  },
  {
   "cell_type": "code",
   "execution_count": 8,
   "metadata": {},
   "outputs": [],
   "source": [
    "sess = tf.Session()"
   ]
  },
  {
   "cell_type": "code",
   "execution_count": 9,
   "metadata": {},
   "outputs": [],
   "source": [
    "sess.run(tf.global_variables_initializer())\n",
    "sess.run(tf.tables_initializer())\n",
    "sess.run(iterator.initializer)"
   ]
  },
  {
   "cell_type": "code",
   "execution_count": 10,
   "metadata": {},
   "outputs": [],
   "source": [
    "batch_ctx, batch_utterance, _ = sess.run(iterator.get_next())"
   ]
  },
  {
   "cell_type": "code",
   "execution_count": 11,
   "metadata": {},
   "outputs": [
    {
     "name": "stdout",
     "output_type": "stream",
     "text": [
      "(32, 372)\n"
     ]
    }
   ],
   "source": [
    "print (batch_ctx.shape)"
   ]
  },
  {
   "cell_type": "code",
   "execution_count": null,
   "metadata": {},
   "outputs": [],
   "source": [
    "cv = sess.run(context_vector, feed_dict={context: batch_ctx})"
   ]
  },
  {
   "cell_type": "code",
   "execution_count": null,
   "metadata": {},
   "outputs": [],
   "source": [
    "print (cv.shape)"
   ]
  },
  {
   "cell_type": "code",
   "execution_count": 12,
   "metadata": {},
   "outputs": [
    {
     "name": "stdout",
     "output_type": "stream",
     "text": [
      "Tensor(\"embedding_lookup:0\", shape=(32, 20, 300), dtype=float32)\n"
     ]
    }
   ],
   "source": [
    "print(context_vector)"
   ]
  },
  {
   "cell_type": "code",
   "execution_count": 13,
   "metadata": {},
   "outputs": [],
   "source": [
    "with tf.variable_scope('rnn') as scope:\n",
    "    lstm_cell = tf.contrib.rnn.BasicLSTMCell(d)\n",
    "    init_state = tf.zeros([32, d])\n",
    "    _, c = tf.nn.dynamic_rnn(cell=lstm_cell, inputs=context_vector, dtype=tf.float32)"
   ]
  },
  {
   "cell_type": "code",
   "execution_count": 14,
   "metadata": {},
   "outputs": [
    {
     "name": "stdout",
     "output_type": "stream",
     "text": [
      "LSTMStateTuple(c=<tf.Tensor 'rnn/rnn/while/Exit_2:0' shape=(32, 300) dtype=float32>, h=<tf.Tensor 'rnn/rnn/while/Exit_3:0' shape=(32, 300) dtype=float32>)\n"
     ]
    }
   ],
   "source": [
    "print (c)"
   ]
  },
  {
   "cell_type": "code",
   "execution_count": 15,
   "metadata": {},
   "outputs": [],
   "source": [
    "utterance_vector = tf.nn.embedding_lookup(W, utterance)\n",
    "with tf.variable_scope('rnn', reuse=True) as scope:\n",
    "    lstm_cell = tf.contrib.rnn.BasicLSTMCell(d)\n",
    "    init_state = tf.zeros([32, d])\n",
    "    _, u = tf.nn.dynamic_rnn(cell=lstm_cell, inputs=utterance_vector, dtype=tf.float32)"
   ]
  },
  {
   "cell_type": "code",
   "execution_count": 16,
   "metadata": {},
   "outputs": [
    {
     "name": "stdout",
     "output_type": "stream",
     "text": [
      "LSTMStateTuple(c=<tf.Tensor 'rnn_1/rnn/while/Exit_2:0' shape=(32, 300) dtype=float32>, h=<tf.Tensor 'rnn_1/rnn/while/Exit_3:0' shape=(32, 300) dtype=float32>)\n"
     ]
    }
   ],
   "source": [
    "print (u)"
   ]
  },
  {
   "cell_type": "code",
   "execution_count": null,
   "metadata": {},
   "outputs": [],
   "source": []
  }
 ],
 "metadata": {
  "kernelspec": {
   "display_name": "Python 3",
   "language": "python",
   "name": "python3"
  },
  "language_info": {
   "codemirror_mode": {
    "name": "ipython",
    "version": 3
   },
   "file_extension": ".py",
   "mimetype": "text/x-python",
   "name": "python",
   "nbconvert_exporter": "python",
   "pygments_lexer": "ipython3",
   "version": "3.6.2"
  }
 },
 "nbformat": 4,
 "nbformat_minor": 2
}
